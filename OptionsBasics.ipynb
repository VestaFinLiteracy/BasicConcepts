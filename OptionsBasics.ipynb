{
 "cells": [
  {
   "cell_type": "code",
   "execution_count": null,
   "metadata": {},
   "outputs": [],
   "source": [
    "import numpy as np\n",
    "import pandas as pd\n",
    "from scipy.stats import norm\n",
    "import bqplot as bq\n",
    "import ipywidgets as widgets\n",
    "import seaborn as sns"
   ]
  },
  {
   "cell_type": "markdown",
   "metadata": {},
   "source": [
    "## First, lets price an easy derivative. Lets start with a future. A future is a contract for some asset (S) at some future time (T). Since we know how to move money into the future we can price a future contrat.  (assuming no dividends)\n",
    "## $$F = S_t e^{r(T-t)}$$"
   ]
  },
  {
   "cell_type": "code",
   "execution_count": null,
   "metadata": {},
   "outputs": [],
   "source": [
    "SP500 = 2850\n",
    "T_t = 0.5 # 6months or half a year\n",
    "r = 0.005 # Annualized rate of 0.5% \n",
    "F = SP500*np.exp(r*T_t)\n",
    "print(F)"
   ]
  },
  {
   "cell_type": "markdown",
   "metadata": {},
   "source": [
    "## The data shows asset prices are random from moment to moment, or at least can be modeled that way. \n",
    "## Lets look at a stochastic process \n",
    "\n",
    "## $$ \\frac{dS}{S} = \\mu  dt + \\sigma dW$$\n",
    "\n"
   ]
  },
  {
   "cell_type": "markdown",
   "metadata": {},
   "source": [
    "## The Value of an Option (V) is known at expiration (T) for any underlying price (S)\n",
    "## $$ V(S,T)$$"
   ]
  },
  {
   "cell_type": "markdown",
   "metadata": {},
   "source": [
    "## How does that value evolve over time? well by ito's lemma on the stochastic process:\n",
    "## $$ dV = \\left(\\mu S \\frac{\\partial V}{\\partial S} + \\frac {\\partial V}{\\partial t} + \\frac {1}{2} \\sigma^2 S^2 \\frac {\\partial^2 V}{\\partial S^2} \\right) dt + \\sigma S \\frac{\\partial V}{\\partial S} dW$$"
   ]
  },
  {
   "cell_type": "markdown",
   "metadata": {},
   "source": [
    "## By solving this for the specifc case of the delta hedged portfolio we arrive at \n",
    "## $$ \\frac {\\partial V}{\\partial t} + \\frac {1}{2} \\sigma^2 S^2 \\frac {\\partial^2 V}{\\partial S^2} + rS \\frac{\\partial V}{\\partial S} - rV = 0  $$"
   ]
  },
  {
   "cell_type": "markdown",
   "metadata": {},
   "source": [
    "## if you take this to the math department and asked them to solve this PDE for the value of a call option they will bring you back the Black Scholes Merton model. \n",
    "## $$C(S_t,t)  = N(d_1)S_t - N(d_2)PV(K)  $$"
   ]
  },
  {
   "cell_type": "markdown",
   "metadata": {},
   "source": [
    "## $N()$ is the cumulative distribution function for a standard normal distribution  and $PV(K)$ is the present value of the strike price. "
   ]
  },
  {
   "cell_type": "markdown",
   "metadata": {},
   "source": [
    "## $$d_1 = \\frac{ln(\\frac{S_t}{K}) + \\left(r + \\frac{\\sigma^2}{2}\\right) (T-t)}{\\sigma \\sqrt{T-t}}$$"
   ]
  },
  {
   "cell_type": "markdown",
   "metadata": {},
   "source": [
    "## $$d_2 = d_1 - \\sigma \\sqrt{T-t}$$"
   ]
  },
  {
   "cell_type": "markdown",
   "metadata": {},
   "source": [
    "## ok, finally lets play:"
   ]
  },
  {
   "cell_type": "code",
   "execution_count": null,
   "metadata": {},
   "outputs": [],
   "source": [
    "#Set up the values with what we know\n",
    "\n",
    "St =100\n",
    "K = 120 # K is the strike price\n",
    "T_t = 1 #1.5 # T-t in years, so 1 = one year\n",
    "Vol = 0.15\n",
    "r = 0.0014 # the risk free interest rate (annualized)\n"
   ]
  },
  {
   "cell_type": "code",
   "execution_count": null,
   "metadata": {},
   "outputs": [],
   "source": [
    "d1 = (np.log(St/K)+(r+0.5*Vol**2)*T_t)/(Vol*np.sqrt(T_t))\n",
    "d2 = d1 - (Vol*np.sqrt(T_t))\n",
    "PV_K  = K*np.exp(-r*T_t)\n",
    "\n",
    "Call_price = norm.cdf(d1)*St - norm.cdf(d2)*PV_K"
   ]
  },
  {
   "cell_type": "code",
   "execution_count": null,
   "metadata": {},
   "outputs": [],
   "source": [
    "Call_price"
   ]
  },
  {
   "cell_type": "code",
   "execution_count": null,
   "metadata": {},
   "outputs": [],
   "source": [
    "def VestaSim(I):\n",
    "    \n",
    "    S = St * np.exp(np.cumsum((r - 0.5 * Vol ** 2) * dt\n",
    "                + Vol * np.sqrt(dt) * np.random.standard_normal((M + 1, I)), axis=0))\n",
    "    S[0] = St\n",
    "    return S"
   ]
  },
  {
   "cell_type": "code",
   "execution_count": null,
   "metadata": {},
   "outputs": [],
   "source": [
    "T = T_t; M = 12*T_t; dt = T / M   \n",
    "numSims = 50000 \n",
    "MC = VestaSim(numSims)"
   ]
  },
  {
   "cell_type": "code",
   "execution_count": null,
   "metadata": {},
   "outputs": [],
   "source": [
    "#Setting up the graph parameters\n",
    "sc_x = bq.LinearScale()\n",
    "sc_y = bq.LinearScale()\n",
    "\n",
    "line = bq.Lines(x=np.arange(len(MC)), y=MC.transpose(),\n",
    "             scales={'x': sc_x, 'y': sc_y})\n",
    "ax_x = bq.Axis(scale=sc_x, label='months')\n",
    "ax_y = bq.Axis(scale=sc_y, orientation='vertical', label='Values')\n",
    "\n",
    "Rando = bq.Figure(marks=[line], axes=[ax_x, ax_y], title='Random Values')"
   ]
  },
  {
   "cell_type": "code",
   "execution_count": null,
   "metadata": {},
   "outputs": [],
   "source": [
    "#Display the Graph\n",
    "Rando"
   ]
  },
  {
   "cell_type": "markdown",
   "metadata": {},
   "source": [
    "If we aren't graphing the paths we can solve the end values in a different way. *******"
   ]
  },
  {
   "cell_type": "code",
   "execution_count": null,
   "metadata": {},
   "outputs": [],
   "source": [
    "def generate_asset_price(St,Vol,r,T_t):\n",
    "    return St * np.exp((r - 0.5 * Vol**2) * T_t + Vol * np.sqrt(T_t) * np.random.standard_normal())\n",
    "def call_payoff(S_T,K):\n",
    "    return max(0.0,S_T-K)"
   ]
  },
  {
   "cell_type": "code",
   "execution_count": null,
   "metadata": {},
   "outputs": [],
   "source": [
    "payoffs =[]\n",
    "for i in range(numSims):\n",
    "    S_T = generate_asset_price(St,Vol,r,T_t)\n",
    "    payoffs.append(\n",
    "        call_payoff(S_T, K)\n",
    "    )"
   ]
  },
  {
   "cell_type": "markdown",
   "metadata": {},
   "source": [
    "**************"
   ]
  },
  {
   "cell_type": "code",
   "execution_count": null,
   "metadata": {},
   "outputs": [],
   "source": [
    "DataFrame = pd.DataFrame(MC) # put payoffs here instead of MC if you use the other method. "
   ]
  },
  {
   "cell_type": "code",
   "execution_count": null,
   "metadata": {},
   "outputs": [],
   "source": [
    "DataFrame.iloc[M-1].describe()"
   ]
  },
  {
   "cell_type": "code",
   "execution_count": null,
   "metadata": {},
   "outputs": [],
   "source": [
    "display(sns.distplot(DataFrame.iloc[M-1]))"
   ]
  },
  {
   "cell_type": "code",
   "execution_count": null,
   "metadata": {},
   "outputs": [],
   "source": [
    "Payoffs = DataFrame.iloc[M-1]-K\n"
   ]
  },
  {
   "cell_type": "code",
   "execution_count": null,
   "metadata": {},
   "outputs": [],
   "source": [
    "Payoffs[Payoffs <= 0] = 0"
   ]
  },
  {
   "cell_type": "code",
   "execution_count": null,
   "metadata": {},
   "outputs": [],
   "source": [
    "ExpectedPayoff = Payoffs.mean()"
   ]
  },
  {
   "cell_type": "code",
   "execution_count": null,
   "metadata": {},
   "outputs": [],
   "source": [
    "ExpectedPayoff*np.exp(-r*T_t)"
   ]
  },
  {
   "cell_type": "markdown",
   "metadata": {},
   "source": [
    "## lets look at the distribution of possible PnL for the asset then the call option. "
   ]
  },
  {
   "cell_type": "code",
   "execution_count": null,
   "metadata": {},
   "outputs": [],
   "source": [
    "display(sns.distplot(DataFrame.iloc[M-1]-St))"
   ]
  },
  {
   "cell_type": "code",
   "execution_count": null,
   "metadata": {},
   "outputs": [],
   "source": [
    "display(sns.distplot(Payoffs)) #Payoffs[Payoffs > 0]"
   ]
  },
  {
   "cell_type": "code",
   "execution_count": null,
   "metadata": {},
   "outputs": [],
   "source": [
    "display(sns.distplot(Payoffs),sns.distplot(DataFrame.iloc[M-1]-St))"
   ]
  },
  {
   "cell_type": "code",
   "execution_count": null,
   "metadata": {},
   "outputs": [],
   "source": []
  }
 ],
 "metadata": {
  "kernelspec": {
   "display_name": "Python 3",
   "language": "python",
   "name": "python3"
  },
  "language_info": {
   "codemirror_mode": {
    "name": "ipython",
    "version": 3
   },
   "file_extension": ".py",
   "mimetype": "text/x-python",
   "name": "python",
   "nbconvert_exporter": "python",
   "pygments_lexer": "ipython3",
   "version": "3.7.4"
  }
 },
 "nbformat": 4,
 "nbformat_minor": 4
}
